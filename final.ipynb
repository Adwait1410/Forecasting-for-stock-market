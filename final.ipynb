{
  "cells": [
    {
      "cell_type": "code",
      "execution_count": null,
      "metadata": {
        "id": "ovlxxRpsQjif"
      },
      "outputs": [],
      "source": [
        "!wget -q -O - ipv4.icanhazip.com\n",
        "\n"
      ]
    },
    {
      "cell_type": "code",
      "execution_count": null,
      "metadata": {
        "colab": {
          "base_uri": "https://localhost:8080/"
        },
        "id": "QDHWz7PEQasv",
        "outputId": "d7e780de-bb9a-49eb-8dff-3a638ca19e4e"
      },
      "outputs": [
        {
          "output_type": "stream",
          "name": "stdout",
          "text": [
            "\u001b[2K     \u001b[90m━━━━━━━━━━━━━━━━━━━━━━━━━━━━━━━━━━━━━━━━\u001b[0m \u001b[32m44.3/44.3 kB\u001b[0m \u001b[31m3.2 MB/s\u001b[0m eta \u001b[36m0:00:00\u001b[0m\n",
            "\u001b[2K   \u001b[90m━━━━━━━━━━━━━━━━━━━━━━━━━━━━━━━━━━━━━━━━\u001b[0m \u001b[32m9.9/9.9 MB\u001b[0m \u001b[31m70.7 MB/s\u001b[0m eta \u001b[36m0:00:00\u001b[0m\n",
            "\u001b[2K   \u001b[90m━━━━━━━━━━━━━━━━━━━━━━━━━━━━━━━━━━━━━━━━\u001b[0m \u001b[32m6.9/6.9 MB\u001b[0m \u001b[31m80.6 MB/s\u001b[0m eta \u001b[36m0:00:00\u001b[0m\n",
            "\u001b[2K   \u001b[90m━━━━━━━━━━━━━━━━━━━━━━━━━━━━━━━━━━━━━━━━\u001b[0m \u001b[32m79.1/79.1 kB\u001b[0m \u001b[31m7.2 MB/s\u001b[0m eta \u001b[36m0:00:00\u001b[0m\n",
            "\u001b[?25h"
          ]
        }
      ],
      "source": [
        "!pip install streamlit -q\n"
      ]
    },
    {
      "cell_type": "code",
      "execution_count": null,
      "metadata": {
        "colab": {
          "base_uri": "https://localhost:8080/"
        },
        "id": "rTBeaq7hRIP3",
        "outputId": "8e165ba1-9a49-498f-a9bf-7c48dbd2e83b"
      },
      "outputs": [
        {
          "output_type": "stream",
          "name": "stdout",
          "text": [
            "\u001b[1G\u001b[0K⠙\u001b[1G\u001b[0K⠹\u001b[1G\u001b[0K⠸\u001b[1G\u001b[0K⠼\u001b[1G\u001b[0K⠴\u001b[1G\u001b[0K⠦\u001b[1G\u001b[0K⠧\u001b[1G\u001b[0K⠇\u001b[1G\u001b[0K⠏\u001b[1G\u001b[0K⠋\u001b[1G\u001b[0K⠙\u001b[1G\u001b[0K⠹\u001b[1G\u001b[0K⠸\u001b[1G\u001b[0K⠼\n",
            "Collecting usage statistics. To deactivate, set browser.gatherUsageStats to false.\n",
            "\u001b[0m\n",
            "\u001b[1G\u001b[0K⠴\u001b[1G\u001b[0K⠦\u001b[1G\u001b[0K⠧\u001b[1G\u001b[0K⠇\u001b[1G\u001b[0K⠏\u001b[1G\u001b[0K⠋\u001b[1G\u001b[0K\u001b[0m\n",
            "\u001b[34m\u001b[1m  You can now view your Streamlit app in your browser.\u001b[0m\n",
            "\u001b[0m\n",
            "\u001b[34m  Local URL: \u001b[0m\u001b[1mhttp://localhost:8501\u001b[0m\n",
            "\u001b[34m  Network URL: \u001b[0m\u001b[1mhttp://172.28.0.12:8501\u001b[0m\n",
            "\u001b[34m  External URL: \u001b[0m\u001b[1mhttp://34.145.181.245:8501\u001b[0m\n",
            "\u001b[0m\n",
            "your url is: https://solid-buses-marry.loca.lt\n",
            "/root/.npm/_npx/75ac80b86e83d4a2/node_modules/localtunnel/bin/lt.js:81\n",
            "    throw err;\n",
            "    ^\n",
            "\n",
            "Error: connection refused: localtunnel.me:27163 (check your firewall settings)\n",
            "    at Socket.<anonymous> (/root/.npm/_npx/75ac80b86e83d4a2/node_modules/\u001b[4mlocaltunnel\u001b[24m/lib/TunnelCluster.js:52:11)\n",
            "\u001b[90m    at Socket.emit (node:events:524:28)\u001b[39m\n",
            "\u001b[90m    at emitErrorNT (node:internal/streams/destroy:169:8)\u001b[39m\n",
            "\u001b[90m    at emitErrorCloseNT (node:internal/streams/destroy:128:3)\u001b[39m\n",
            "\u001b[90m    at process.processTicksAndRejections (node:internal/process/task_queues:82:21)\u001b[39m\n",
            "\n",
            "Node.js v20.19.0\n",
            "\u001b[1G\u001b[0K⠙\u001b[1G\u001b[0K\u001b[34m  Stopping...\u001b[0m\n"
          ]
        }
      ],
      "source": [
        "! streamlit run app.py & npx localtunnel --port 8501"
      ]
    },
    {
      "cell_type": "code",
      "execution_count": null,
      "metadata": {
        "colab": {
          "base_uri": "https://localhost:8080/"
        },
        "id": "t8lhhScmkd4R",
        "outputId": "a4243676-c51c-419f-ab8b-678df6f30a8c"
      },
      "outputs": [
        {
          "output_type": "stream",
          "name": "stdout",
          "text": [
            "--- 1. Data Loading and Preprocessing ---\n",
            "First 5 rows of the dataset:\n",
            "                 Open       High        Low      Close  Adj Close   Volume\n",
            "Date                                                                      \n",
            "2005-09-27  21.049999  21.400000  19.100000  19.299999  18.194912   961200\n",
            "2005-09-28  19.299999  20.530001  19.200001  20.500000  19.326204  5747900\n",
            "2005-09-29  20.400000  20.580000  20.100000  20.209999  19.052807  1078200\n",
            "2005-09-30  20.260000  21.049999  20.180000  21.010000  19.806997  3123300\n",
            "2005-10-03  20.900000  21.750000  20.900000  21.500000  20.268946  1057900\n",
            "\n",
            "Last 5 rows of the dataset:\n",
            "                 Open       High    Low      Close  Adj Close    Volume\n",
            "Date                                                                   \n",
            "2022-03-18  16.350000  16.840000  16.16  16.750000  16.750000  38979100\n",
            "2022-03-21  16.500000  16.540001  15.90  16.090000  16.090000  45852600\n",
            "2022-03-22  16.200001  16.760000  16.09  16.559999  16.559999  40143400\n",
            "2022-03-23  16.309999  16.459999  16.17  16.209999  16.209999  31336000\n",
            "2022-03-24  16.309999  16.760000  16.10  16.719999  16.719999  33802700\n",
            "\n",
            "Missing values per column:\n",
            "Open         0\n",
            "High         0\n",
            "Low          0\n",
            "Close        0\n",
            "Adj Close    0\n",
            "Volume       0\n",
            "dtype: int64\n",
            "\n",
            "DataFrame Info:\n",
            "<class 'pandas.core.frame.DataFrame'>\n",
            "DatetimeIndex: 4152 entries, 2005-09-27 to 2022-03-24\n",
            "Data columns (total 6 columns):\n",
            " #   Column     Non-Null Count  Dtype  \n",
            "---  ------     --------------  -----  \n",
            " 0   Open       4152 non-null   float64\n",
            " 1   High       4152 non-null   float64\n",
            " 2   Low        4152 non-null   float64\n",
            " 3   Close      4152 non-null   float64\n",
            " 4   Adj Close  4152 non-null   float64\n",
            " 5   Volume     4152 non-null   int64  \n",
            "dtypes: float64(5), int64(1)\n",
            "memory usage: 227.1 KB\n",
            "\n",
            "DataFrame Columns:\n",
            "Index(['Open', 'High', 'Low', 'Close', 'Adj Close', 'Volume'], dtype='object')\n",
            "\n",
            "DataFrame Description:\n",
            "              Open         High          Low        Close    Adj Close  \\\n",
            "count  4152.000000  4152.000000  4152.000000  4152.000000  4152.000000   \n",
            "mean     25.898909    26.374256    25.393528    25.871416    24.861094   \n",
            "std      16.087281    16.275087    15.889804    16.086850    15.425919   \n",
            "min       1.810000     2.030000     1.450000     1.760000     1.659225   \n",
            "25%      10.627500    10.907500    10.280000    10.557500    10.049624   \n",
            "50%      24.545000    25.200000    24.145000    24.460000    23.961385   \n",
            "75%      40.012499    40.720001    39.412499    40.020000    38.313822   \n",
            "max      62.700001    63.270000    62.000000    62.950001    59.345585   \n",
            "\n",
            "             Volume  \n",
            "count  4.152000e+03  \n",
            "mean   1.357131e+07  \n",
            "std    2.196484e+07  \n",
            "min    1.385000e+05  \n",
            "25%    4.501425e+06  \n",
            "50%    7.141950e+06  \n",
            "75%    1.188660e+07  \n",
            "max    4.286171e+08  \n",
            "\n",
            "--- 2. LSTM Model Implementation ---\n"
          ]
        },
        {
          "output_type": "stream",
          "name": "stderr",
          "text": [
            "/usr/local/lib/python3.11/dist-packages/keras/src/layers/rnn/rnn.py:200: UserWarning: Do not pass an `input_shape`/`input_dim` argument to a layer. When using Sequential models, prefer using an `Input(shape)` object as the first layer in the model instead.\n",
            "  super().__init__(**kwargs)\n"
          ]
        },
        {
          "output_type": "stream",
          "name": "stdout",
          "text": [
            "Training LSTM model...\n"
          ]
        }
      ],
      "source": [
        "import numpy as np\n",
        "import pandas as pd\n",
        "from sklearn.model_selection import train_test_split\n",
        "from sklearn.preprocessing import StandardScaler\n",
        "from keras.models import Sequential\n",
        "from keras.layers import LSTM, Dense\n",
        "from sklearn.metrics import mean_squared_error, mean_absolute_error, r2_score\n",
        "import math\n",
        "import matplotlib.pyplot as plt\n",
        "from statsmodels.tsa.arima.model import ARIMA\n",
        "from statsmodels.tsa.statespace.sarimax import SARIMAX\n",
        "from prophet import Prophet\n",
        "import logging\n",
        "\n",
        "logging.getLogger('prophet').setLevel(logging.WARNING)\n",
        "\n",
        "print(\"--- 1. Data Loading and Preprocessing ---\")\n",
        "df = pd.read_csv('AAL.csv')\n",
        "\n",
        "df['Date'] = pd.to_datetime(df['Date'])\n",
        "df.set_index('Date', inplace=True)\n",
        "df.sort_values(by='Date', inplace=True)\n",
        "\n",
        "print(\"First 5 rows of the dataset:\")\n",
        "print(df.head())\n",
        "print(\"\\nLast 5 rows of the dataset:\")\n",
        "print(df.tail())\n",
        "print(\"\\nMissing values per column:\")\n",
        "print(df.isna().sum())\n",
        "print(\"\\nDataFrame Info:\")\n",
        "df.info()\n",
        "print(\"\\nDataFrame Columns:\")\n",
        "print(df.columns)\n",
        "print(\"\\nDataFrame Description:\")\n",
        "print(df.describe())\n",
        "\n",
        "print(\"\\n--- 2. LSTM Model Implementation ---\")\n",
        "features = ['Open', 'High', 'Low', 'Volume', 'Adj Close']\n",
        "target = 'Close'\n",
        "X = df[features].values\n",
        "y = df[target].values\n",
        "\n",
        "scaler = StandardScaler()\n",
        "X_scaled = scaler.fit_transform(X)\n",
        "\n",
        "X_train_lstm, X_test_lstm, y_train_lstm, y_test_lstm = train_test_split(X_scaled, y, test_size=0.2, random_state=42, shuffle=False)\n",
        "X_train_lstm = X_train_lstm.reshape(X_train_lstm.shape[0], 1, X_train_lstm.shape[1])\n",
        "X_test_lstm = X_test_lstm.reshape(X_test_lstm.shape[0], 1, X_test_lstm.shape[1])\n",
        "\n",
        "lstm_model = Sequential()\n",
        "lstm_model.add(LSTM(units=50, return_sequences=True, input_shape=(X_train_lstm.shape[1], X_train_lstm.shape[2])))\n",
        "lstm_model.add(LSTM(units=50))\n",
        "lstm_model.add(Dense(units=1))\n",
        "lstm_model.compile(optimizer='adam', loss='mean_squared_error')\n",
        "\n",
        "print(\"Training LSTM model...\")\n",
        "lstm_model.fit(X_train_lstm, y_train_lstm, epochs=100, batch_size=64, verbose=0)\n",
        "lstm_predictions = lstm_model.predict(X_test_lstm).flatten()\n",
        "\n",
        "mse_lstm = mean_squared_error(y_test_lstm, lstm_predictions)\n",
        "mae_lstm = mean_absolute_error(y_test_lstm, lstm_predictions)\n",
        "rmse_lstm = math.sqrt(mse_lstm)\n",
        "r2_lstm = r2_score(y_test_lstm, lstm_predictions)\n",
        "\n",
        "print(\"\\nLSTM Model Evaluation:\")\n",
        "print(f\"Mean Squared Error: {mse_lstm:.4f}\")\n",
        "print(f\"Mean Absolute Error: {mae_lstm:.4f}\")\n",
        "print(f\"Root Mean Squared Error: {rmse_lstm:.4f}\")\n",
        "print(f\"R^2 Score: {r2_lstm:.4f}\")\n",
        "\n",
        "plt.figure(figsize=(12, 6))\n",
        "test_dates_lstm = df.index[-len(y_test_lstm):]\n",
        "plt.plot(test_dates_lstm, y_test_lstm, label='Actual Close Price')\n",
        "plt.plot(test_dates_lstm, lstm_predictions, label='LSTM Predicted Close Price', color='red', linestyle='--')\n",
        "plt.title('LSTM Model: Actual vs Predicted Close Price')\n",
        "plt.xlabel('Date')\n",
        "plt.ylabel('Close Price')\n",
        "plt.legend()\n",
        "plt.grid(True)\n",
        "plt.tight_layout()\n",
        "plt.savefig(\"lstm_plot.png\")\n",
        "plt.close()\n",
        "\n",
        "print(\"\\n--- 2.1. LSTM Future Predictions ---\")\n",
        "future_input_data = df[features].tail(10).values\n",
        "future_input_scaled = scaler.transform(future_input_data)\n",
        "future_input_reshaped = future_input_scaled.reshape(future_input_scaled.shape[0], 1, future_input_scaled.shape[1])\n",
        "future_lstm_predictions = lstm_model.predict(future_input_reshaped).flatten()\n",
        "\n",
        "print(\"LSTM Predicted Close Prices for the next 10 data points (based on last 10 feature sets):\")\n",
        "for i, price in enumerate(future_lstm_predictions):\n",
        "    print(f\"Day {i+1}: {price:.2f}\")\n",
        "\n",
        "print(\"\\n--- 3. ARIMA Model Implementation ---\")\n",
        "y_train_arima = df[target].iloc[:len(y_train_lstm)]\n",
        "y_test_arima = df[target].iloc[len(y_train_lstm):]\n",
        "\n",
        "print(\"Training ARIMA model...\")\n",
        "arima_model = ARIMA(y_train_arima, order=(5,1,0))\n",
        "arima_results = arima_model.fit()\n",
        "\n",
        "arima_predictions_series = arima_results.forecast(steps=len(y_test_arima))\n",
        "arima_predictions = arima_predictions_series.values\n",
        "\n",
        "mse_arima = mean_squared_error(y_test_arima, arima_predictions)\n",
        "mae_arima = mean_absolute_error(y_test_arima, arima_predictions)\n",
        "rmse_arima = math.sqrt(mse_arima)\n",
        "r2_arima = r2_score(y_test_arima, arima_predictions)\n",
        "\n",
        "print(\"\\nARIMA Model Evaluation:\")\n",
        "print(f\"Mean Squared Error: {mse_arima:.4f}\")\n",
        "print(f\"Mean Absolute Error: {mae_arima:.4f}\")\n",
        "print(f\"Root Mean Squared Error: {rmse_arima:.4f}\")\n",
        "print(f\"R^2 Score: {r2_arima:.4f}\")\n",
        "\n",
        "plt.figure(figsize=(12, 6))\n",
        "plt.plot(test_dates_lstm, y_test_arima, label='Actual Close Price')\n",
        "plt.plot(test_dates_lstm, arima_predictions, label='ARIMA Predicted Close Price', color='green', linestyle='--')\n",
        "plt.title('ARIMA Model: Actual vs Predicted Close Price')\n",
        "plt.xlabel('Date')\n",
        "plt.ylabel('Close Price')\n",
        "plt.legend()\n",
        "plt.grid(True)\n",
        "plt.tight_layout()\n",
        "plt.savefig(\"arima_plot.png\")\n",
        "plt.close()\n",
        "\n",
        "print(\"\\n--- 4. SARIMAX Model Implementation ---\")\n",
        "y_train_sarimax = df[target].iloc[:len(y_train_lstm)]\n",
        "y_test_sarimax = df[target].iloc[len(y_train_lstm):]\n",
        "\n",
        "print(\"Training SARIMAX model...\")\n",
        "sarimax_model = SARIMAX(y_train_sarimax, order=(1, 1, 1), seasonal_order=(1, 1, 1, 12))\n",
        "sarimax_results = sarimax_model.fit(disp=False)\n",
        "\n",
        "sarimax_predictions_series = sarimax_results.forecast(steps=len(y_test_sarimax))\n",
        "sarimax_predictions = sarimax_predictions_series.values\n",
        "\n",
        "mse_sarimax = mean_squared_error(y_test_sarimax, sarimax_predictions)\n",
        "mae_sarimax = mean_absolute_error(y_test_sarimax, sarimax_predictions)\n",
        "rmse_sarimax = math.sqrt(mse_sarimax)\n",
        "r2_sarimax = r2_score(y_test_sarimax, sarimax_predictions)\n",
        "\n",
        "print(\"\\nSARIMAX Model Evaluation:\")\n",
        "print(f\"Mean Squared Error: {mse_sarimax:.4f}\")\n",
        "print(f\"Mean Absolute Error: {mae_sarimax:.4f}\")\n",
        "print(f\"Root Mean Squared Error: {rmse_sarimax:.4f}\")\n",
        "print(f\"R^2 Score: {r2_sarimax:.4f}\")\n",
        "\n",
        "plt.figure(figsize=(12, 6))\n",
        "plt.plot(test_dates_lstm, y_test_sarimax, label='Actual Close Price')\n",
        "plt.plot(test_dates_lstm, sarimax_predictions, label='SARIMAX Predicted Close Price', color='purple', linestyle='--')\n",
        "plt.title('SARIMAX Model: Actual vs Predicted Close Price')\n",
        "plt.xlabel('Date')\n",
        "plt.ylabel('Close Price')\n",
        "plt.legend()\n",
        "plt.grid(True)\n",
        "plt.tight_layout()\n",
        "plt.savefig(\"sarimax_plot.png\")\n",
        "plt.close()\n",
        "\n",
        "print(\"\\n--- 5. Prophet Model Implementation ---\")\n",
        "df_prophet = df.reset_index()[['Date', 'Close']]\n",
        "df_prophet.rename(columns={'Date': 'ds', 'Close': 'y'}, inplace=True)\n",
        "\n",
        "train_size_prophet = int(len(df_prophet) * 0.8)\n",
        "df_prophet_train = df_prophet.iloc[:train_size_prophet]\n",
        "df_prophet_test = df_prophet.iloc[train_size_prophet:]\n",
        "\n",
        "prophet_model = Prophet()\n",
        "print(\"Training Prophet model...\")\n",
        "prophet_model.fit(df_prophet_train)\n",
        "\n",
        "future_prophet = prophet_model.make_future_dataframe(periods=len(df_prophet_test), include_history=False)\n",
        "forecast_prophet = prophet_model.predict(future_prophet)\n",
        "\n",
        "y_pred_prophet = forecast_prophet['yhat'].values\n",
        "y_test_prophet = df_prophet_test['y'].values\n",
        "\n",
        "prophet_mse = mean_squared_error(y_test_prophet, y_pred_prophet)\n",
        "prophet_mae = mean_absolute_error(y_test_prophet, y_pred_prophet)\n",
        "prophet_rmse = math.sqrt(prophet_mse)\n",
        "prophet_r2 = r2_score(y_test_prophet, y_pred_prophet)\n",
        "\n",
        "print(\"\\nProphet Model Evaluation (on Test Set):\")\n",
        "print(f\"Mean Squared Error: {prophet_mse:.4f}\")\n",
        "print(f\"Mean Absolute Error: {prophet_mae:.4f}\")\n",
        "print(f\"Root Mean Squared Error: {prophet_rmse:.4f}\")\n",
        "print(f\"R^2 Score: {prophet_r2:.4f}\")\n",
        "\n",
        "fig_prophet1 = prophet_model.plot(forecast_prophet)\n",
        "plt.title(\"Prophet Forecast - Close Price (Test Set Highlighted)\")\n",
        "plt.xlabel(\"Date\")\n",
        "plt.ylabel(\"Close Price\")\n",
        "plt.axvline(x=df_prophet_train['ds'].iloc[-1], color='grey', linestyle='--', label='Train/Test Split')\n",
        "plt.legend()\n",
        "fig_prophet1.savefig(\"prophet_plot_forecast.png\")\n",
        "plt.close(fig_prophet1)\n",
        "\n",
        "fig_prophet2 = prophet_model.plot_components(forecast_prophet)\n",
        "fig_prophet2.savefig(\"prophet_plot_components.png\")\n",
        "plt.close(fig_prophet2)\n",
        "\n",
        "plt.figure(figsize=(12, 6))\n",
        "plt.plot(df_prophet_test['ds'], y_test_prophet, label='Actual Close Price')\n",
        "plt.plot(df_prophet_test['ds'], y_pred_prophet, label='Prophet Predicted Close Price', color='orange', linestyle='--')\n",
        "plt.title('Prophet Model: Actual vs Predicted Close Price (Test Set)')\n",
        "plt.xlabel('Date')\n",
        "plt.ylabel('Close Price')\n",
        "plt.legend()\n",
        "plt.grid(True)\n",
        "plt.tight_layout()\n",
        "plt.savefig(\"prophet_plot.png\")\n",
        "plt.close()\n",
        "\n",
        "print(\"\\n--- 6. Model Comparison ---\")\n",
        "results = pd.DataFrame({\n",
        "    'Model': ['LSTM', 'ARIMA', 'SARIMAX', 'Prophet'],\n",
        "    'MSE': [mse_lstm, mse_arima, mse_sarimax, prophet_mse],\n",
        "    'MAE': [mae_lstm, mae_arima, mae_sarimax, prophet_mae],\n",
        "    'RMSE': [rmse_lstm, rmse_arima, rmse_sarimax, prophet_rmse],\n",
        "    'R^2 Score': [r2_lstm, r2_arima, r2_sarimax, prophet_r2]\n",
        "})\n",
        "\n",
        "print(\"--- Model Performance Comparison ---\")\n",
        "print(results.round(4))\n",
        "results.to_csv(\"model_evaluation_summary.csv\", index=False)\n",
        "\n",
        "print(\"\\n--- 7. Discussion and Conclusion ---\")\n",
        "print(\"Based on the evaluation metrics:\")\n",
        "print(\"\\n--- Project Completed ---\")\n",
        "print(\"📄 model_evaluation_summary.csv saved!\")\n",
        "print(\"📈 Plots saved as PNG files!\")\n"
      ]
    },
    {
      "cell_type": "code",
      "execution_count": null,
      "metadata": {
        "colab": {
          "base_uri": "https://localhost:8080/",
          "height": 17
        },
        "id": "_KkKu8cjngtE",
        "outputId": "1f63331d-4da2-4a48-ff22-09dfda06d724"
      },
      "outputs": [
        {
          "data": {
            "application/javascript": [
              "\n",
              "    async function download(id, filename, size) {\n",
              "      if (!google.colab.kernel.accessAllowed) {\n",
              "        return;\n",
              "      }\n",
              "      const div = document.createElement('div');\n",
              "      const label = document.createElement('label');\n",
              "      label.textContent = `Downloading \"${filename}\": `;\n",
              "      div.appendChild(label);\n",
              "      const progress = document.createElement('progress');\n",
              "      progress.max = size;\n",
              "      div.appendChild(progress);\n",
              "      document.body.appendChild(div);\n",
              "\n",
              "      const buffers = [];\n",
              "      let downloaded = 0;\n",
              "\n",
              "      const channel = await google.colab.kernel.comms.open(id);\n",
              "      // Send a message to notify the kernel that we're ready.\n",
              "      channel.send({})\n",
              "\n",
              "      for await (const message of channel.messages) {\n",
              "        // Send a message to notify the kernel that we're ready.\n",
              "        channel.send({})\n",
              "        if (message.buffers) {\n",
              "          for (const buffer of message.buffers) {\n",
              "            buffers.push(buffer);\n",
              "            downloaded += buffer.byteLength;\n",
              "            progress.value = downloaded;\n",
              "          }\n",
              "        }\n",
              "      }\n",
              "      const blob = new Blob(buffers, {type: 'application/binary'});\n",
              "      const a = document.createElement('a');\n",
              "      a.href = window.URL.createObjectURL(blob);\n",
              "      a.download = filename;\n",
              "      div.appendChild(a);\n",
              "      a.click();\n",
              "      div.remove();\n",
              "    }\n",
              "  "
            ],
            "text/plain": [
              "<IPython.core.display.Javascript object>"
            ]
          },
          "metadata": {},
          "output_type": "display_data"
        },
        {
          "data": {
            "application/javascript": [
              "download(\"download_d0ee0139-c8f4-4134-943c-70971e0273ab\", \"model_evaluation_summary.csv\", 357)"
            ],
            "text/plain": [
              "<IPython.core.display.Javascript object>"
            ]
          },
          "metadata": {},
          "output_type": "display_data"
        },
        {
          "data": {
            "application/javascript": [
              "\n",
              "    async function download(id, filename, size) {\n",
              "      if (!google.colab.kernel.accessAllowed) {\n",
              "        return;\n",
              "      }\n",
              "      const div = document.createElement('div');\n",
              "      const label = document.createElement('label');\n",
              "      label.textContent = `Downloading \"${filename}\": `;\n",
              "      div.appendChild(label);\n",
              "      const progress = document.createElement('progress');\n",
              "      progress.max = size;\n",
              "      div.appendChild(progress);\n",
              "      document.body.appendChild(div);\n",
              "\n",
              "      const buffers = [];\n",
              "      let downloaded = 0;\n",
              "\n",
              "      const channel = await google.colab.kernel.comms.open(id);\n",
              "      // Send a message to notify the kernel that we're ready.\n",
              "      channel.send({})\n",
              "\n",
              "      for await (const message of channel.messages) {\n",
              "        // Send a message to notify the kernel that we're ready.\n",
              "        channel.send({})\n",
              "        if (message.buffers) {\n",
              "          for (const buffer of message.buffers) {\n",
              "            buffers.push(buffer);\n",
              "            downloaded += buffer.byteLength;\n",
              "            progress.value = downloaded;\n",
              "          }\n",
              "        }\n",
              "      }\n",
              "      const blob = new Blob(buffers, {type: 'application/binary'});\n",
              "      const a = document.createElement('a');\n",
              "      a.href = window.URL.createObjectURL(blob);\n",
              "      a.download = filename;\n",
              "      div.appendChild(a);\n",
              "      a.click();\n",
              "      div.remove();\n",
              "    }\n",
              "  "
            ],
            "text/plain": [
              "<IPython.core.display.Javascript object>"
            ]
          },
          "metadata": {},
          "output_type": "display_data"
        },
        {
          "data": {
            "application/javascript": [
              "download(\"download_13832c47-438d-4ffb-9eac-2a52bae33e3a\", \"lstm_plot.png\", 120213)"
            ],
            "text/plain": [
              "<IPython.core.display.Javascript object>"
            ]
          },
          "metadata": {},
          "output_type": "display_data"
        },
        {
          "data": {
            "application/javascript": [
              "\n",
              "    async function download(id, filename, size) {\n",
              "      if (!google.colab.kernel.accessAllowed) {\n",
              "        return;\n",
              "      }\n",
              "      const div = document.createElement('div');\n",
              "      const label = document.createElement('label');\n",
              "      label.textContent = `Downloading \"${filename}\": `;\n",
              "      div.appendChild(label);\n",
              "      const progress = document.createElement('progress');\n",
              "      progress.max = size;\n",
              "      div.appendChild(progress);\n",
              "      document.body.appendChild(div);\n",
              "\n",
              "      const buffers = [];\n",
              "      let downloaded = 0;\n",
              "\n",
              "      const channel = await google.colab.kernel.comms.open(id);\n",
              "      // Send a message to notify the kernel that we're ready.\n",
              "      channel.send({})\n",
              "\n",
              "      for await (const message of channel.messages) {\n",
              "        // Send a message to notify the kernel that we're ready.\n",
              "        channel.send({})\n",
              "        if (message.buffers) {\n",
              "          for (const buffer of message.buffers) {\n",
              "            buffers.push(buffer);\n",
              "            downloaded += buffer.byteLength;\n",
              "            progress.value = downloaded;\n",
              "          }\n",
              "        }\n",
              "      }\n",
              "      const blob = new Blob(buffers, {type: 'application/binary'});\n",
              "      const a = document.createElement('a');\n",
              "      a.href = window.URL.createObjectURL(blob);\n",
              "      a.download = filename;\n",
              "      div.appendChild(a);\n",
              "      a.click();\n",
              "      div.remove();\n",
              "    }\n",
              "  "
            ],
            "text/plain": [
              "<IPython.core.display.Javascript object>"
            ]
          },
          "metadata": {},
          "output_type": "display_data"
        },
        {
          "data": {
            "application/javascript": [
              "download(\"download_2d453c51-3fbe-4262-b788-fae9fd6993ad\", \"arima_plot.png\", 82338)"
            ],
            "text/plain": [
              "<IPython.core.display.Javascript object>"
            ]
          },
          "metadata": {},
          "output_type": "display_data"
        },
        {
          "data": {
            "application/javascript": [
              "\n",
              "    async function download(id, filename, size) {\n",
              "      if (!google.colab.kernel.accessAllowed) {\n",
              "        return;\n",
              "      }\n",
              "      const div = document.createElement('div');\n",
              "      const label = document.createElement('label');\n",
              "      label.textContent = `Downloading \"${filename}\": `;\n",
              "      div.appendChild(label);\n",
              "      const progress = document.createElement('progress');\n",
              "      progress.max = size;\n",
              "      div.appendChild(progress);\n",
              "      document.body.appendChild(div);\n",
              "\n",
              "      const buffers = [];\n",
              "      let downloaded = 0;\n",
              "\n",
              "      const channel = await google.colab.kernel.comms.open(id);\n",
              "      // Send a message to notify the kernel that we're ready.\n",
              "      channel.send({})\n",
              "\n",
              "      for await (const message of channel.messages) {\n",
              "        // Send a message to notify the kernel that we're ready.\n",
              "        channel.send({})\n",
              "        if (message.buffers) {\n",
              "          for (const buffer of message.buffers) {\n",
              "            buffers.push(buffer);\n",
              "            downloaded += buffer.byteLength;\n",
              "            progress.value = downloaded;\n",
              "          }\n",
              "        }\n",
              "      }\n",
              "      const blob = new Blob(buffers, {type: 'application/binary'});\n",
              "      const a = document.createElement('a');\n",
              "      a.href = window.URL.createObjectURL(blob);\n",
              "      a.download = filename;\n",
              "      div.appendChild(a);\n",
              "      a.click();\n",
              "      div.remove();\n",
              "    }\n",
              "  "
            ],
            "text/plain": [
              "<IPython.core.display.Javascript object>"
            ]
          },
          "metadata": {},
          "output_type": "display_data"
        },
        {
          "data": {
            "application/javascript": [
              "download(\"download_71defcd2-d1d6-4955-8fd4-cbf9b540df99\", \"sarimax_plot.png\", 92701)"
            ],
            "text/plain": [
              "<IPython.core.display.Javascript object>"
            ]
          },
          "metadata": {},
          "output_type": "display_data"
        },
        {
          "data": {
            "application/javascript": [
              "\n",
              "    async function download(id, filename, size) {\n",
              "      if (!google.colab.kernel.accessAllowed) {\n",
              "        return;\n",
              "      }\n",
              "      const div = document.createElement('div');\n",
              "      const label = document.createElement('label');\n",
              "      label.textContent = `Downloading \"${filename}\": `;\n",
              "      div.appendChild(label);\n",
              "      const progress = document.createElement('progress');\n",
              "      progress.max = size;\n",
              "      div.appendChild(progress);\n",
              "      document.body.appendChild(div);\n",
              "\n",
              "      const buffers = [];\n",
              "      let downloaded = 0;\n",
              "\n",
              "      const channel = await google.colab.kernel.comms.open(id);\n",
              "      // Send a message to notify the kernel that we're ready.\n",
              "      channel.send({})\n",
              "\n",
              "      for await (const message of channel.messages) {\n",
              "        // Send a message to notify the kernel that we're ready.\n",
              "        channel.send({})\n",
              "        if (message.buffers) {\n",
              "          for (const buffer of message.buffers) {\n",
              "            buffers.push(buffer);\n",
              "            downloaded += buffer.byteLength;\n",
              "            progress.value = downloaded;\n",
              "          }\n",
              "        }\n",
              "      }\n",
              "      const blob = new Blob(buffers, {type: 'application/binary'});\n",
              "      const a = document.createElement('a');\n",
              "      a.href = window.URL.createObjectURL(blob);\n",
              "      a.download = filename;\n",
              "      div.appendChild(a);\n",
              "      a.click();\n",
              "      div.remove();\n",
              "    }\n",
              "  "
            ],
            "text/plain": [
              "<IPython.core.display.Javascript object>"
            ]
          },
          "metadata": {},
          "output_type": "display_data"
        },
        {
          "data": {
            "application/javascript": [
              "download(\"download_9fdbcb19-037f-44ef-8320-f09aaf2429cb\", \"prophet_plot.png\", 118862)"
            ],
            "text/plain": [
              "<IPython.core.display.Javascript object>"
            ]
          },
          "metadata": {},
          "output_type": "display_data"
        }
      ],
      "source": [
        "from google.colab import files\n",
        "files.download('model_evaluation_summary.csv')\n",
        "files.download('lstm_plot.png')\n",
        "files.download('arima_plot.png')\n",
        "files.download('sarimax_plot.png')\n",
        "files.download('prophet_plot.png')\n"
      ]
    }
  ],
  "metadata": {
    "colab": {
      "provenance": []
    },
    "kernelspec": {
      "display_name": "Python 3",
      "name": "python3"
    },
    "language_info": {
      "name": "python"
    }
  },
  "nbformat": 4,
  "nbformat_minor": 0
}